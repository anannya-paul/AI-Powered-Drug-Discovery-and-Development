{
  "nbformat": 4,
  "nbformat_minor": 0,
  "metadata": {
    "colab": {
      "provenance": []
    },
    "kernelspec": {
      "name": "python3",
      "display_name": "Python 3"
    },
    "language_info": {
      "name": "python"
    }
  },
  "cells": [
    {
      "cell_type": "code",
      "execution_count": null,
      "metadata": {
        "colab": {
          "base_uri": "https://localhost:8080/"
        },
        "id": "LTmClFvS13GF",
        "outputId": "5c32b341-698f-4a00-c5d1-59b17f0b30da"
      },
      "outputs": [
        {
          "output_type": "stream",
          "name": "stdout",
          "text": [
            "Extracted files: ['v2013-core']\n"
          ]
        }
      ],
      "source": [
        "import zipfile\n",
        "import os\n",
        "import pandas as pd\n",
        "\n",
        "zip_file_path = \"archive (12).zip\"\n",
        "extracted_dir = \"extracted_datasets\"\n",
        "\n",
        "# Create the extraction directory if it doesn't exist\n",
        "os.makedirs(extracted_dir, exist_ok=True)\n",
        "\n",
        "# Extract the zip file\n",
        "with zipfile.ZipFile(zip_file_path, 'r') as zip_ref:\n",
        "    zip_ref.extractall(extracted_dir)\n",
        "\n",
        "# List the extracted files\n",
        "extracted_files = os.listdir(extracted_dir)\n",
        "print(\"Extracted files:\", extracted_files)\n",
        "\n",
        "# Load CSV files into DataFrames\n",
        "dataframes = {}\n",
        "for file_name in extracted_files:\n",
        "    if file_name.endswith(\".csv\"):\n",
        "        file_path = os.path.join(extracted_dir, file_name)\n",
        "        df_name = os.path.splitext(file_name)[0] # Use filename without extension as df name\n",
        "        try:\n",
        "            dataframes[df_name] = pd.read_csv(file_path)\n",
        "            print(f\"Loaded {file_name} into DataFrame '{df_name}'\")\n",
        "            display(dataframes[df_name].head())\n",
        "        except Exception as e:\n",
        "            print(f\"Error loading {file_name}: {e}\")\n"
      ]
    },
    {
      "cell_type": "code",
      "source": [
        "# List the files inside the extracted directory\n",
        "extracted_files_in_subdir = os.listdir(os.path.join(extracted_dir, extracted_files[0]))\n",
        "print(\"Files inside extracted directory:\", extracted_files_in_subdir)\n",
        "\n",
        "# Load CSV files into DataFrames from the subdirectory\n",
        "for file_name in extracted_files_in_subdir:\n",
        "    if file_name.endswith(\".csv\"):\n",
        "        file_path = os.path.join(extracted_dir, extracted_files[0], file_name)\n",
        "        df_name = os.path.splitext(file_name)[0] # Use filename without extension as df name\n",
        "        try:\n",
        "            dataframes[df_name] = pd.read_csv(file_path)\n",
        "            print(f\"Loaded {file_name} into DataFrame '{df_name}'\")\n",
        "            display(dataframes[df_name].head())\n",
        "        except Exception as e:\n",
        "            print(f\"Error loading {file_name}: {e}\")"
      ],
      "metadata": {
        "colab": {
          "base_uri": "https://localhost:8080/",
          "height": 261
        },
        "id": "OudBc9Ld2Xky",
        "outputId": "e331f45e-bc51-4851-f3be-dec6e17ac60f"
      },
      "execution_count": null,
      "outputs": [
        {
          "output_type": "stream",
          "name": "stdout",
          "text": [
            "Files inside extracted directory: ['1a30', '3ge7', '3pww', '3myg', '3su3', '3imc', '1n2v', '3kv2', '4des', '2qbp', '1jyq', '1o5b', '1sqa', '2x8z', '3bfu', '3l4w', '1uto', '3ivg', '2vvn', '3coy', '2g70', '2iwx', '4de1', '1r5y', '2pcp', '2cet', '3pxf', '3vh9', '1hfs', '3ag9', '3ozt', '2zjw', '1nvq', '3acw', '1n1m', '2xb8', '2zxd', '4dew', '3mss', '2xy9', '2zwz', '3cj2', '1lol', '3mfv', '1u33', '2qmj', '3kwa', '3g2n', '1mq6', '3l3n', '3ejr', '1w4o', '3ueu', '2gss', '2xhm', '1bcu', '1z95', 'pdbbind_v2013_core.csv', '3fcq', '2x00', '3bpc', '2yki', '3ehy', '1e66', '1q8t', '2hb1', '3b3w', '3gy4', '1hnn', '3gbb', '3muz', '4tmn', '2v00', '10gs', '2yge', '3cft', '2ole', '1h23', '2zcr', '2weg', '3f17', '4g8m', '3fv1', '3g2z', '3b3s', '3ebp', '1o3f', '3f3e', '3utu', '2xdl', '2vl4', '3udh', '3nox', '3b68', '3vd4', '1igj', '1loq', '2x0y', '2yfe', '3k5v', '3n7a', '1lor', '3jvs', '3ov1', '3owj', '1zea', '2jdu', '3nw9', '1os0', '3l7b', '2ymd', '1yc1', '3cyx', '2v7a', '3d4z', '3su5', '3huc', '3e93', '3kgp', '1lbk', '3gcs', '1qi0', '2vo5', '2wca', '4djr', '2vw5', '2brb', '2w66', '3fk1', '3su2', '2cbj', '3zso', '2obf', '4gqq', '2xys', '1xd0', '1w3l', '3f3c', '3l4u', '1vso', '3pe2', '3zsx', '3g0w', '2wtv', '1p1q', '2j78', '3bkk', '2j62', '2qbr', '2xbv', '4gid', '2zcq', '4djv', '1gpk', '2p4y', '3uex', '2xnb', '3uo4', '3i3b', '2d1o', '1f8c', '2wbg', '2r23', '2x97', '3uri', '1w3k', '2vot', '1f8b', '1q8u', '3nq3', '2qft', '2zx6', '2y5h', '2pq9', '3oe5', '1ps3', '4de2', '2jdm', '3lka', '1oyt', '1kel', '3s8o', '3f3a', '3n86', '3ao4', '1sln', '2jdy', '3dd0', '1f8d', '3f80', '1u1b', '3dxg', '2d3u', '2fvd', '3u9q', '3gnw']\n",
            "Loaded pdbbind_v2013_core.csv into DataFrame 'pdbbind_v2013_core'\n"
          ]
        },
        {
          "output_type": "display_data",
          "data": {
            "text/plain": [
              "  pdb_id  label\n",
              "0   2d3u   6.92\n",
              "1   3cyx   8.00\n",
              "2   3uo4   6.52\n",
              "3   1p1q   4.89\n",
              "4   3ag9   8.05"
            ],
            "text/html": [
              "\n",
              "  <div id=\"df-e0839e4f-c781-4e1c-a2a7-a3f41a7176fb\" class=\"colab-df-container\">\n",
              "    <div>\n",
              "<style scoped>\n",
              "    .dataframe tbody tr th:only-of-type {\n",
              "        vertical-align: middle;\n",
              "    }\n",
              "\n",
              "    .dataframe tbody tr th {\n",
              "        vertical-align: top;\n",
              "    }\n",
              "\n",
              "    .dataframe thead th {\n",
              "        text-align: right;\n",
              "    }\n",
              "</style>\n",
              "<table border=\"1\" class=\"dataframe\">\n",
              "  <thead>\n",
              "    <tr style=\"text-align: right;\">\n",
              "      <th></th>\n",
              "      <th>pdb_id</th>\n",
              "      <th>label</th>\n",
              "    </tr>\n",
              "  </thead>\n",
              "  <tbody>\n",
              "    <tr>\n",
              "      <th>0</th>\n",
              "      <td>2d3u</td>\n",
              "      <td>6.92</td>\n",
              "    </tr>\n",
              "    <tr>\n",
              "      <th>1</th>\n",
              "      <td>3cyx</td>\n",
              "      <td>8.00</td>\n",
              "    </tr>\n",
              "    <tr>\n",
              "      <th>2</th>\n",
              "      <td>3uo4</td>\n",
              "      <td>6.52</td>\n",
              "    </tr>\n",
              "    <tr>\n",
              "      <th>3</th>\n",
              "      <td>1p1q</td>\n",
              "      <td>4.89</td>\n",
              "    </tr>\n",
              "    <tr>\n",
              "      <th>4</th>\n",
              "      <td>3ag9</td>\n",
              "      <td>8.05</td>\n",
              "    </tr>\n",
              "  </tbody>\n",
              "</table>\n",
              "</div>\n",
              "    <div class=\"colab-df-buttons\">\n",
              "\n",
              "  <div class=\"colab-df-container\">\n",
              "    <button class=\"colab-df-convert\" onclick=\"convertToInteractive('df-e0839e4f-c781-4e1c-a2a7-a3f41a7176fb')\"\n",
              "            title=\"Convert this dataframe to an interactive table.\"\n",
              "            style=\"display:none;\">\n",
              "\n",
              "  <svg xmlns=\"http://www.w3.org/2000/svg\" height=\"24px\" viewBox=\"0 -960 960 960\">\n",
              "    <path d=\"M120-120v-720h720v720H120Zm60-500h600v-160H180v160Zm220 220h160v-160H400v160Zm0 220h160v-160H400v160ZM180-400h160v-160H180v160Zm440 0h160v-160H620v160ZM180-180h160v-160H180v160Zm440 0h160v-160H620v160Z\"/>\n",
              "  </svg>\n",
              "    </button>\n",
              "\n",
              "  <style>\n",
              "    .colab-df-container {\n",
              "      display:flex;\n",
              "      gap: 12px;\n",
              "    }\n",
              "\n",
              "    .colab-df-convert {\n",
              "      background-color: #E8F0FE;\n",
              "      border: none;\n",
              "      border-radius: 50%;\n",
              "      cursor: pointer;\n",
              "      display: none;\n",
              "      fill: #1967D2;\n",
              "      height: 32px;\n",
              "      padding: 0 0 0 0;\n",
              "      width: 32px;\n",
              "    }\n",
              "\n",
              "    .colab-df-convert:hover {\n",
              "      background-color: #E2EBFA;\n",
              "      box-shadow: 0px 1px 2px rgba(60, 64, 67, 0.3), 0px 1px 3px 1px rgba(60, 64, 67, 0.15);\n",
              "      fill: #174EA6;\n",
              "    }\n",
              "\n",
              "    .colab-df-buttons div {\n",
              "      margin-bottom: 4px;\n",
              "    }\n",
              "\n",
              "    [theme=dark] .colab-df-convert {\n",
              "      background-color: #3B4455;\n",
              "      fill: #D2E3FC;\n",
              "    }\n",
              "\n",
              "    [theme=dark] .colab-df-convert:hover {\n",
              "      background-color: #434B5C;\n",
              "      box-shadow: 0px 1px 3px 1px rgba(0, 0, 0, 0.15);\n",
              "      filter: drop-shadow(0px 1px 2px rgba(0, 0, 0, 0.3));\n",
              "      fill: #FFFFFF;\n",
              "    }\n",
              "  </style>\n",
              "\n",
              "    <script>\n",
              "      const buttonEl =\n",
              "        document.querySelector('#df-e0839e4f-c781-4e1c-a2a7-a3f41a7176fb button.colab-df-convert');\n",
              "      buttonEl.style.display =\n",
              "        google.colab.kernel.accessAllowed ? 'block' : 'none';\n",
              "\n",
              "      async function convertToInteractive(key) {\n",
              "        const element = document.querySelector('#df-e0839e4f-c781-4e1c-a2a7-a3f41a7176fb');\n",
              "        const dataTable =\n",
              "          await google.colab.kernel.invokeFunction('convertToInteractive',\n",
              "                                                    [key], {});\n",
              "        if (!dataTable) return;\n",
              "\n",
              "        const docLinkHtml = 'Like what you see? Visit the ' +\n",
              "          '<a target=\"_blank\" href=https://colab.research.google.com/notebooks/data_table.ipynb>data table notebook</a>'\n",
              "          + ' to learn more about interactive tables.';\n",
              "        element.innerHTML = '';\n",
              "        dataTable['output_type'] = 'display_data';\n",
              "        await google.colab.output.renderOutput(dataTable, element);\n",
              "        const docLink = document.createElement('div');\n",
              "        docLink.innerHTML = docLinkHtml;\n",
              "        element.appendChild(docLink);\n",
              "      }\n",
              "    </script>\n",
              "  </div>\n",
              "\n",
              "\n",
              "    <div id=\"df-eb79cf9c-8bf1-4192-8392-52b8dc4e1416\">\n",
              "      <button class=\"colab-df-quickchart\" onclick=\"quickchart('df-eb79cf9c-8bf1-4192-8392-52b8dc4e1416')\"\n",
              "                title=\"Suggest charts\"\n",
              "                style=\"display:none;\">\n",
              "\n",
              "<svg xmlns=\"http://www.w3.org/2000/svg\" height=\"24px\"viewBox=\"0 0 24 24\"\n",
              "     width=\"24px\">\n",
              "    <g>\n",
              "        <path d=\"M19 3H5c-1.1 0-2 .9-2 2v14c0 1.1.9 2 2 2h14c1.1 0 2-.9 2-2V5c0-1.1-.9-2-2-2zM9 17H7v-7h2v7zm4 0h-2V7h2v10zm4 0h-2v-4h2v4z\"/>\n",
              "    </g>\n",
              "</svg>\n",
              "      </button>\n",
              "\n",
              "<style>\n",
              "  .colab-df-quickchart {\n",
              "      --bg-color: #E8F0FE;\n",
              "      --fill-color: #1967D2;\n",
              "      --hover-bg-color: #E2EBFA;\n",
              "      --hover-fill-color: #174EA6;\n",
              "      --disabled-fill-color: #AAA;\n",
              "      --disabled-bg-color: #DDD;\n",
              "  }\n",
              "\n",
              "  [theme=dark] .colab-df-quickchart {\n",
              "      --bg-color: #3B4455;\n",
              "      --fill-color: #D2E3FC;\n",
              "      --hover-bg-color: #434B5C;\n",
              "      --hover-fill-color: #FFFFFF;\n",
              "      --disabled-bg-color: #3B4455;\n",
              "      --disabled-fill-color: #666;\n",
              "  }\n",
              "\n",
              "  .colab-df-quickchart {\n",
              "    background-color: var(--bg-color);\n",
              "    border: none;\n",
              "    border-radius: 50%;\n",
              "    cursor: pointer;\n",
              "    display: none;\n",
              "    fill: var(--fill-color);\n",
              "    height: 32px;\n",
              "    padding: 0;\n",
              "    width: 32px;\n",
              "  }\n",
              "\n",
              "  .colab-df-quickchart:hover {\n",
              "    background-color: var(--hover-bg-color);\n",
              "    box-shadow: 0 1px 2px rgba(60, 64, 67, 0.3), 0 1px 3px 1px rgba(60, 64, 67, 0.15);\n",
              "    fill: var(--button-hover-fill-color);\n",
              "  }\n",
              "\n",
              "  .colab-df-quickchart-complete:disabled,\n",
              "  .colab-df-quickchart-complete:disabled:hover {\n",
              "    background-color: var(--disabled-bg-color);\n",
              "    fill: var(--disabled-fill-color);\n",
              "    box-shadow: none;\n",
              "  }\n",
              "\n",
              "  .colab-df-spinner {\n",
              "    border: 2px solid var(--fill-color);\n",
              "    border-color: transparent;\n",
              "    border-bottom-color: var(--fill-color);\n",
              "    animation:\n",
              "      spin 1s steps(1) infinite;\n",
              "  }\n",
              "\n",
              "  @keyframes spin {\n",
              "    0% {\n",
              "      border-color: transparent;\n",
              "      border-bottom-color: var(--fill-color);\n",
              "      border-left-color: var(--fill-color);\n",
              "    }\n",
              "    20% {\n",
              "      border-color: transparent;\n",
              "      border-left-color: var(--fill-color);\n",
              "      border-top-color: var(--fill-color);\n",
              "    }\n",
              "    30% {\n",
              "      border-color: transparent;\n",
              "      border-left-color: var(--fill-color);\n",
              "      border-top-color: var(--fill-color);\n",
              "      border-right-color: var(--fill-color);\n",
              "    }\n",
              "    40% {\n",
              "      border-color: transparent;\n",
              "      border-right-color: var(--fill-color);\n",
              "      border-top-color: var(--fill-color);\n",
              "    }\n",
              "    60% {\n",
              "      border-color: transparent;\n",
              "      border-right-color: var(--fill-color);\n",
              "    }\n",
              "    80% {\n",
              "      border-color: transparent;\n",
              "      border-right-color: var(--fill-color);\n",
              "      border-bottom-color: var(--fill-color);\n",
              "    }\n",
              "    90% {\n",
              "      border-color: transparent;\n",
              "      border-bottom-color: var(--fill-color);\n",
              "    }\n",
              "  }\n",
              "</style>\n",
              "\n",
              "      <script>\n",
              "        async function quickchart(key) {\n",
              "          const quickchartButtonEl =\n",
              "            document.querySelector('#' + key + ' button');\n",
              "          quickchartButtonEl.disabled = true;  // To prevent multiple clicks.\n",
              "          quickchartButtonEl.classList.add('colab-df-spinner');\n",
              "          try {\n",
              "            const charts = await google.colab.kernel.invokeFunction(\n",
              "                'suggestCharts', [key], {});\n",
              "          } catch (error) {\n",
              "            console.error('Error during call to suggestCharts:', error);\n",
              "          }\n",
              "          quickchartButtonEl.classList.remove('colab-df-spinner');\n",
              "          quickchartButtonEl.classList.add('colab-df-quickchart-complete');\n",
              "        }\n",
              "        (() => {\n",
              "          let quickchartButtonEl =\n",
              "            document.querySelector('#df-eb79cf9c-8bf1-4192-8392-52b8dc4e1416 button');\n",
              "          quickchartButtonEl.style.display =\n",
              "            google.colab.kernel.accessAllowed ? 'block' : 'none';\n",
              "        })();\n",
              "      </script>\n",
              "    </div>\n",
              "\n",
              "    </div>\n",
              "  </div>\n"
            ],
            "application/vnd.google.colaboratory.intrinsic+json": {
              "type": "dataframe",
              "summary": "{\n  \"name\": \"            print(f\\\"Error loading {file_name}: {e}\\\")\",\n  \"rows\": 5,\n  \"fields\": [\n    {\n      \"column\": \"pdb_id\",\n      \"properties\": {\n        \"dtype\": \"string\",\n        \"num_unique_values\": 5,\n        \"samples\": [\n          \"3cyx\",\n          \"3ag9\",\n          \"3uo4\"\n        ],\n        \"semantic_type\": \"\",\n        \"description\": \"\"\n      }\n    },\n    {\n      \"column\": \"label\",\n      \"properties\": {\n        \"dtype\": \"number\",\n        \"std\": 1.2956195429214552,\n        \"min\": 4.89,\n        \"max\": 8.05,\n        \"num_unique_values\": 5,\n        \"samples\": [\n          8.0,\n          8.05,\n          6.52\n        ],\n        \"semantic_type\": \"\",\n        \"description\": \"\"\n      }\n    }\n  ]\n}"
            }
          },
          "metadata": {}
        }
      ]
    },
    {
      "cell_type": "code",
      "source": [
        "print(\"Missing values per column:\")\n",
        "print(dataframes['pdbbind_v2013_core'].isnull().sum())\n",
        "print(\"\\nData types:\")\n",
        "print(dataframes['pdbbind_v2013_core'].dtypes)"
      ],
      "metadata": {
        "colab": {
          "base_uri": "https://localhost:8080/"
        },
        "id": "S6fvYOl02dPU",
        "outputId": "4992935a-426f-4bcc-a845-f3fa289b6ac6"
      },
      "execution_count": null,
      "outputs": [
        {
          "output_type": "stream",
          "name": "stdout",
          "text": [
            "Missing values per column:\n",
            "pdb_id    0\n",
            "label     0\n",
            "dtype: int64\n",
            "\n",
            "Data types:\n",
            "pdb_id     object\n",
            "label     float64\n",
            "dtype: object\n"
          ]
        }
      ]
    },
    {
      "cell_type": "code",
      "source": [
        "import tensorflow as tf\n",
        "\n",
        "def build_regression_model(input_shape):\n",
        "    \"\"\"Defines a simple sequential model for regression.\"\"\"\n",
        "    model = tf.keras.Sequential([\n",
        "        tf.keras.layers.Dense(64, activation='relu', input_shape=(input_shape,)),\n",
        "        tf.keras.layers.Dense(32, activation='relu'),\n",
        "        tf.keras.layers.Dense(1) # Output layer for regression\n",
        "    ])\n",
        "\n",
        "    model.compile(optimizer='adam',\n",
        "                  loss='mse',  # Mean Squared Error for regression\n",
        "                  metrics=['mae']) # Mean Absolute Error as a metric\n",
        "\n",
        "    return model"
      ],
      "metadata": {
        "id": "Gwity6Zb2dUU"
      },
      "execution_count": null,
      "outputs": []
    },
    {
      "cell_type": "code",
      "metadata": {
        "colab": {
          "base_uri": "https://localhost:8080/"
        },
        "id": "c0a57ae2",
        "outputId": "6c11decb-1588-46fc-cdff-3d98fe05de54"
      },
      "source": [
        "from sklearn.model_selection import KFold\n",
        "\n",
        "# Determine the number of splits for cross-validation\n",
        "n_splits = 5\n",
        "\n",
        "# Instantiate a KFold object\n",
        "kf = KFold(n_splits=n_splits, shuffle=True, random_state=42)\n",
        "\n",
        "# Initialize lists to store evaluation metrics for each fold\n",
        "fold_mse_scores = []\n",
        "fold_mae_scores = []\n",
        "\n",
        "\n",
        "import numpy as np\n",
        "num_samples = len(dataframes['pdbbind_v2013_core'])\n",
        "# Define a placeholder value for input_shape_placeholder\n",
        "input_shape_placeholder = 1\n",
        "X_placeholder = np.random.rand(num_samples, input_shape_placeholder)\n",
        "y = dataframes['pdbbind_v2013_core']['label'].values\n",
        "\n",
        "# Iterate through the folds generated by the KFold object\n",
        "for fold, (train_index, val_index) in enumerate(kf.split(X_placeholder)):\n",
        "    print(f\"Fold {fold+1}/{n_splits}\")\n",
        "\n",
        "    # Split data into training and validation sets\n",
        "    X_train, X_val = X_placeholder[train_index], X_placeholder[val_index]\n",
        "    y_train, y_val = y[train_index], y[val_index]\n",
        "\n",
        "\n",
        "\n",
        "    # For this subtask, we are only demonstrating the splitting process.\n",
        "    print(f\"  Training set size: {len(X_train)}\")\n",
        "    print(f\"  Validation set size: {len(X_val)}\")\n",
        "\n",
        "# Print a message indicating the cross-validation setup is complete\n",
        "print(\"\\nCross-validation setup complete. Data split into folds using KFold.\")\n",
        "print(\"Note: Model training and evaluation were skipped as per subtask instructions.\")"
      ],
      "execution_count": null,
      "outputs": [
        {
          "output_type": "stream",
          "name": "stdout",
          "text": [
            "Fold 1/5\n",
            "  Training set size: 154\n",
            "  Validation set size: 39\n",
            "Fold 2/5\n",
            "  Training set size: 154\n",
            "  Validation set size: 39\n",
            "Fold 3/5\n",
            "  Training set size: 154\n",
            "  Validation set size: 39\n",
            "Fold 4/5\n",
            "  Training set size: 155\n",
            "  Validation set size: 38\n",
            "Fold 5/5\n",
            "  Training set size: 155\n",
            "  Validation set size: 38\n",
            "\n",
            "Cross-validation setup complete. Data split into folds using KFold.\n",
            "Note: Model training and evaluation were skipped as per subtask instructions.\n"
          ]
        }
      ]
    },
    {
      "cell_type": "code",
      "metadata": {
        "colab": {
          "base_uri": "https://localhost:8080/"
        },
        "id": "8c049fa1",
        "outputId": "d236c7ba-57c5-4ea0-9011-f38b5310809d"
      },
      "source": [
        "# Iterate through the folds generated by the KFold object\n",
        "for fold, (train_index, val_index) in enumerate(kf.split(X_placeholder)):\n",
        "    print(f\"Fold {fold+1}/{n_splits}\")\n",
        "\n",
        "    # Split data into training and validation sets\n",
        "    X_train, X_val = X_placeholder[train_index], X_placeholder[val_index]\n",
        "    y_train, y_val = y[train_index], y[val_index]\n",
        "\n",
        "    # Instantiate a new deep learning model for each fold\n",
        "    model = build_regression_model(input_shape_placeholder)\n",
        "\n",
        "    # Train the model on the training data\n",
        "    print(\"  Training model...\")\n",
        "    history = model.fit(X_train, y_train,\n",
        "                        epochs=50, # Choose a suitable number of epochs\n",
        "                        batch_size=32, # Choose a suitable batch size\n",
        "                        validation_data=(X_val, y_val),\n",
        "                        verbose=0) # Set verbose to 0 to reduce output during training\n",
        "\n",
        "    # Evaluate the trained model on the validation data\n",
        "    print(\"  Evaluating model...\")\n",
        "    loss, mae = model.evaluate(X_val, y_val, verbose=0)\n",
        "\n",
        "    # Store the evaluation metrics\n",
        "    fold_mse_scores.append(loss)\n",
        "    fold_mae_scores.append(mae)\n",
        "\n",
        "    # Print the evaluation metrics for the current fold\n",
        "    print(f\"  Fold {fold+1} - Validation Loss (MSE): {loss:.4f}, Validation MAE: {mae:.4f}\")\n",
        "\n",
        "print(\"\\nCross-validation training and evaluation complete.\")\n",
        "print(f\"Average Validation MSE: {np.mean(fold_mse_scores):.4f}\")\n",
        "print(f\"Average Validation MAE: {np.mean(fold_mae_scores):.4f}\")"
      ],
      "execution_count": null,
      "outputs": [
        {
          "output_type": "stream",
          "name": "stdout",
          "text": [
            "Fold 1/5\n",
            "  Training model...\n"
          ]
        },
        {
          "output_type": "stream",
          "name": "stderr",
          "text": [
            "/usr/local/lib/python3.11/dist-packages/keras/src/layers/core/dense.py:87: UserWarning: Do not pass an `input_shape`/`input_dim` argument to a layer. When using Sequential models, prefer using an `Input(shape)` object as the first layer in the model instead.\n",
            "  super().__init__(activity_regularizer=activity_regularizer, **kwargs)\n"
          ]
        },
        {
          "output_type": "stream",
          "name": "stdout",
          "text": [
            "  Evaluating model...\n",
            "  Fold 1 - Validation Loss (MSE): 6.5640, Validation MAE: 2.0464\n",
            "Fold 2/5\n",
            "  Training model...\n"
          ]
        },
        {
          "output_type": "stream",
          "name": "stderr",
          "text": [
            "/usr/local/lib/python3.11/dist-packages/keras/src/layers/core/dense.py:87: UserWarning: Do not pass an `input_shape`/`input_dim` argument to a layer. When using Sequential models, prefer using an `Input(shape)` object as the first layer in the model instead.\n",
            "  super().__init__(activity_regularizer=activity_regularizer, **kwargs)\n"
          ]
        },
        {
          "output_type": "stream",
          "name": "stdout",
          "text": [
            "  Evaluating model...\n",
            "  Fold 2 - Validation Loss (MSE): 7.9152, Validation MAE: 2.4005\n",
            "Fold 3/5\n",
            "  Training model...\n"
          ]
        },
        {
          "output_type": "stream",
          "name": "stderr",
          "text": [
            "/usr/local/lib/python3.11/dist-packages/keras/src/layers/core/dense.py:87: UserWarning: Do not pass an `input_shape`/`input_dim` argument to a layer. When using Sequential models, prefer using an `Input(shape)` object as the first layer in the model instead.\n",
            "  super().__init__(activity_regularizer=activity_regularizer, **kwargs)\n"
          ]
        },
        {
          "output_type": "stream",
          "name": "stdout",
          "text": [
            "  Evaluating model...\n",
            "  Fold 3 - Validation Loss (MSE): 7.7983, Validation MAE: 2.3647\n",
            "Fold 4/5\n",
            "  Training model...\n"
          ]
        },
        {
          "output_type": "stream",
          "name": "stderr",
          "text": [
            "/usr/local/lib/python3.11/dist-packages/keras/src/layers/core/dense.py:87: UserWarning: Do not pass an `input_shape`/`input_dim` argument to a layer. When using Sequential models, prefer using an `Input(shape)` object as the first layer in the model instead.\n",
            "  super().__init__(activity_regularizer=activity_regularizer, **kwargs)\n"
          ]
        },
        {
          "output_type": "stream",
          "name": "stdout",
          "text": [
            "  Evaluating model...\n",
            "  Fold 4 - Validation Loss (MSE): 4.4024, Validation MAE: 1.6702\n",
            "Fold 5/5\n",
            "  Training model...\n"
          ]
        },
        {
          "output_type": "stream",
          "name": "stderr",
          "text": [
            "/usr/local/lib/python3.11/dist-packages/keras/src/layers/core/dense.py:87: UserWarning: Do not pass an `input_shape`/`input_dim` argument to a layer. When using Sequential models, prefer using an `Input(shape)` object as the first layer in the model instead.\n",
            "  super().__init__(activity_regularizer=activity_regularizer, **kwargs)\n"
          ]
        },
        {
          "output_type": "stream",
          "name": "stdout",
          "text": [
            "  Evaluating model...\n",
            "  Fold 5 - Validation Loss (MSE): 8.1666, Validation MAE: 2.3523\n",
            "\n",
            "Cross-validation training and evaluation complete.\n",
            "Average Validation MSE: 6.9693\n",
            "Average Validation MAE: 2.1668\n"
          ]
        }
      ]
    },
    {
      "cell_type": "code",
      "metadata": {
        "colab": {
          "base_uri": "https://localhost:8080/"
        },
        "id": "a881da62",
        "outputId": "9791b557-67ce-4195-945b-8b5fed0c9417"
      },
      "source": [
        "import numpy as np\n",
        "\n",
        "# Calculate the mean and standard deviation of the MSE scores\n",
        "mean_mse = np.mean(fold_mse_scores)\n",
        "std_mse = np.std(fold_mse_scores)\n",
        "\n",
        "# Calculate the mean and standard deviation of the MAE scores\n",
        "mean_mae = np.mean(fold_mae_scores)\n",
        "std_mae = np.std(fold_mae_scores)\n",
        "\n",
        "# Print the aggregated performance metrics\n",
        "print(\"\\nAggregated Cross-Validation Performance Metrics:\")\n",
        "print(f\"Average Mean Squared Error (MSE): {mean_mse:.4f} +/- {std_mse:.4f}\")\n",
        "print(f\"Average Mean Absolute Error (MAE): {mean_mae:.4f} +/- {std_mae:.4f}\")"
      ],
      "execution_count": null,
      "outputs": [
        {
          "output_type": "stream",
          "name": "stdout",
          "text": [
            "\n",
            "Aggregated Cross-Validation Performance Metrics:\n",
            "Average Mean Squared Error (MSE): 6.9693 +/- 1.3977\n",
            "Average Mean Absolute Error (MAE): 2.1668 +/- 0.2790\n"
          ]
        }
      ]
    }
  ]
}